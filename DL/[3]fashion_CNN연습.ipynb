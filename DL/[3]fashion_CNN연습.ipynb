{
 "cells": [
  {
   "cell_type": "markdown",
   "id": "6b0c41d2",
   "metadata": {
    "id": "6b0c41d2"
   },
   "source": [
    "### 1. 로드 데이터 "
   ]
  },
  {
   "cell_type": "code",
   "execution_count": 2,
   "id": "e98c2a00",
   "metadata": {
    "id": "e98c2a00"
   },
   "outputs": [],
   "source": [
    "import tensorflow as tf\n",
    "fashion_mnist  = tf.keras.datasets.fashion_mnist   \n",
    "(x_train, y_train), (x_test, y_test) = fashion_mnist.load_data()\n"
   ]
  },
  {
   "cell_type": "markdown",
   "id": "92d367c5",
   "metadata": {
    "id": "92d367c5"
   },
   "source": [
    "### 2. 로드 데이터 확인\n",
    " -  28*28 픽셀을 가진 0~ 9까지의 숫자 이미지와 레이블로 구성 \n",
    " - 10000개의 실험용 세트와 60000개의 훈련용 학습 데이터로 리턴  "
   ]
  },
  {
   "cell_type": "code",
   "execution_count": 3,
   "id": "f4941175",
   "metadata": {
    "id": "f4941175",
    "outputId": "865e4401-f8cc-44d0-989c-ddb7d5a79122"
   },
   "outputs": [
    {
     "data": {
      "text/plain": [
       "((10000, 28, 28), (60000, 28, 28))"
      ]
     },
     "execution_count": 3,
     "metadata": {},
     "output_type": "execute_result"
    }
   ],
   "source": [
    "x_test.shape  ,x_train.shape\n",
    "x_test.shape  ,x_train.shape"
   ]
  },
  {
   "cell_type": "markdown",
   "id": "46252177",
   "metadata": {
    "id": "46252177"
   },
   "source": [
    "### 3. 이미지는 픽셀값 조정 0~ 255 ->  0~1까지로  조정  "
   ]
  },
  {
   "cell_type": "code",
   "execution_count": 4,
   "id": "61d61b3b",
   "metadata": {
    "id": "61d61b3b"
   },
   "outputs": [],
   "source": [
    "x_test ,x_train = x_test/ 255.0 ,  x_train / 255.0\n",
    "#학습시키기 전에 원핫 인코딩을 레이블을 한건지,        loss에서 할 건지, Sparse Categorical Crossentopy"
   ]
  },
  {
   "cell_type": "code",
   "execution_count": 5,
   "id": "b1898576",
   "metadata": {},
   "outputs": [
    {
     "data": {
      "text/plain": [
       "(60000, 28, 28)"
      ]
     },
     "execution_count": 5,
     "metadata": {},
     "output_type": "execute_result"
    }
   ],
   "source": [
    "x_train.shape"
   ]
  },
  {
   "cell_type": "markdown",
   "id": "1bf07d1e",
   "metadata": {
    "id": "1bf07d1e"
   },
   "source": [
    "### 4. 모델 생성\n",
    " - 1단계  :    784 -> 1000  -> 10 \n",
    " - 2단계  :  784 =  28* 28 \n",
    " - 3단계  : 정답은  0~ 9  타켓  10개다  \n",
    " - 4단계  :  총 3개의 레이어를 통해서 결과가 출력 된다.  \n",
    " - 5단계  : 784를 배열로  ->   1000  (784*1000)  relu  ->  1000*10  softmax로 하자. "
   ]
  },
  {
   "cell_type": "code",
   "execution_count": 10,
   "id": "88b66e7a",
   "metadata": {
    "id": "88b66e7a"
   },
   "outputs": [],
   "source": [
    "# 모형 ( 단순모형, 복잡한 함수형 모형 ) 여깄는건 단순모형\n",
    "\n",
    "from keras.models import Sequential\n",
    "from keras.layers.convolutional import Conv2D\n",
    "from keras.layers.convolutional import MaxPooling2D\n",
    "from keras.layers import Dense\n",
    "from keras.layers import Flatten, BatchNormalization, Activation\n",
    "\n",
    "model = Sequential() #단순 모형 만들기\n",
    "# 5*5 크기의 필터를 32장 사용하겠다. 즉, 25픽셀 정사각형을 사용하겠다.\n",
    "# input_shape = (28,28,1) 마지막 1 흑백, 3은 컬러\n",
    "# 필터의 크기? 홀수 필터, 128* 128 > (7,7)로\n",
    "\n",
    "model.add(Conv2D(32, kernel_size = 3, padding = 'same', input_shape = (28, 28, 1))) #데이터 인풋\n",
    "model.add(BatchNormalization())\n",
    "model.add(Activation('relu'))\n",
    "\n",
    "\n",
    "model.add(Conv2D(32, kernel_size = 3, padding = 'same'))\n",
    "model.add(BatchNormalization())\n",
    "model.add(Activation('relu'))\n",
    "model.add(MaxPooling2D(pool_size = (2,2), strides = 2, padding = 'same'))\n",
    "\n",
    "\n",
    "\n",
    "\n",
    "model.add(Conv2D(64, kernel_size = 3, padding = 'same'))\n",
    "model.add(BatchNormalization())\n",
    "model.add(Activation('relu'))\n",
    "\n",
    "\n",
    "model.add(Conv2D(64, kernel_size = 3, padding = 'same'))\n",
    "model.add(BatchNormalization())\n",
    "model.add(Activation('relu'))\n",
    "model.add(MaxPooling2D(pool_size = (2,2), strides = 2, padding = 'same'))\n",
    "\n",
    "\n",
    "\n",
    "\n",
    "model.add(Conv2D(128, kernel_size = 3, padding = 'same'))\n",
    "model.add(BatchNormalization())\n",
    "model.add(Activation('relu'))\n",
    "\n",
    "\n",
    "model.add(Conv2D(128, kernel_size = 3, padding = 'same'))\n",
    "model.add(BatchNormalization())\n",
    "model.add(Activation('relu'))\n",
    "model.add(MaxPooling2D(pool_size = (2,2), strides = 2, padding = 'same'))\n",
    "\n",
    "\n",
    "model.add(Flatten()) # 1차원 변환!!\n",
    "model.add(Dense(256))\n",
    "model.add(BatchNormalization())\n",
    "model.add(Activation('relu'))\n",
    "model.add(Dense(10, activation = 'softmax'))# 0~9까지니까 10개는 있어야 표현이 됨\n",
    "\n",
    "model.compile(optimizer='adam', # 옵티마이저 : Adam\n",
    "              loss = 'sparse_categorical_crossentropy', # 손실 함수 : categorical_crossentropy\n",
    "              metrics = ['accuracy']) # 모니터링 할 평가지표 : "
   ]
  },
  {
   "cell_type": "code",
   "execution_count": 11,
   "id": "9bdb5429",
   "metadata": {
    "id": "9bdb5429",
    "outputId": "7faea7b7-abc7-46b5-a3a7-06e2e6ce3d42"
   },
   "outputs": [
    {
     "name": "stdout",
     "output_type": "stream",
     "text": [
      "Model: \"sequential_3\"\n",
      "_________________________________________________________________\n",
      " Layer (type)                Output Shape              Param #   \n",
      "=================================================================\n",
      " conv2d_8 (Conv2D)           (None, 28, 28, 32)        320       \n",
      "                                                                 \n",
      " batch_normalization_8 (Batc  (None, 28, 28, 32)       128       \n",
      " hNormalization)                                                 \n",
      "                                                                 \n",
      " activation_7 (Activation)   (None, 28, 28, 32)        0         \n",
      "                                                                 \n",
      " conv2d_9 (Conv2D)           (None, 28, 28, 32)        9248      \n",
      "                                                                 \n",
      " batch_normalization_9 (Batc  (None, 28, 28, 32)       128       \n",
      " hNormalization)                                                 \n",
      "                                                                 \n",
      " activation_8 (Activation)   (None, 28, 28, 32)        0         \n",
      "                                                                 \n",
      " max_pooling2d_3 (MaxPooling  (None, 14, 14, 32)       0         \n",
      " 2D)                                                             \n",
      "                                                                 \n",
      " conv2d_10 (Conv2D)          (None, 14, 14, 64)        18496     \n",
      "                                                                 \n",
      " batch_normalization_10 (Bat  (None, 14, 14, 64)       256       \n",
      " chNormalization)                                                \n",
      "                                                                 \n",
      " activation_9 (Activation)   (None, 14, 14, 64)        0         \n",
      "                                                                 \n",
      " conv2d_11 (Conv2D)          (None, 14, 14, 64)        36928     \n",
      "                                                                 \n",
      " batch_normalization_11 (Bat  (None, 14, 14, 64)       256       \n",
      " chNormalization)                                                \n",
      "                                                                 \n",
      " activation_10 (Activation)  (None, 14, 14, 64)        0         \n",
      "                                                                 \n",
      " max_pooling2d_4 (MaxPooling  (None, 7, 7, 64)         0         \n",
      " 2D)                                                             \n",
      "                                                                 \n",
      " conv2d_12 (Conv2D)          (None, 7, 7, 128)         73856     \n",
      "                                                                 \n",
      " batch_normalization_12 (Bat  (None, 7, 7, 128)        512       \n",
      " chNormalization)                                                \n",
      "                                                                 \n",
      " activation_11 (Activation)  (None, 7, 7, 128)         0         \n",
      "                                                                 \n",
      " conv2d_13 (Conv2D)          (None, 7, 7, 128)         147584    \n",
      "                                                                 \n",
      " batch_normalization_13 (Bat  (None, 7, 7, 128)        512       \n",
      " chNormalization)                                                \n",
      "                                                                 \n",
      " activation_12 (Activation)  (None, 7, 7, 128)         0         \n",
      "                                                                 \n",
      " max_pooling2d_5 (MaxPooling  (None, 4, 4, 128)        0         \n",
      " 2D)                                                             \n",
      "                                                                 \n",
      " flatten_1 (Flatten)         (None, 2048)              0         \n",
      "                                                                 \n",
      " dense_2 (Dense)             (None, 256)               524544    \n",
      "                                                                 \n",
      " batch_normalization_14 (Bat  (None, 256)              1024      \n",
      " chNormalization)                                                \n",
      "                                                                 \n",
      " activation_13 (Activation)  (None, 256)               0         \n",
      "                                                                 \n",
      " dense_3 (Dense)             (None, 10)                2570      \n",
      "                                                                 \n",
      "=================================================================\n",
      "Total params: 816,362\n",
      "Trainable params: 814,954\n",
      "Non-trainable params: 1,408\n",
      "_________________________________________________________________\n"
     ]
    }
   ],
   "source": [
    "model.summary()"
   ]
  },
  {
   "cell_type": "markdown",
   "id": "93b2f698",
   "metadata": {
    "id": "93b2f698"
   },
   "source": [
    "### 5. Fit"
   ]
  },
  {
   "cell_type": "code",
   "execution_count": 13,
   "id": "73798a4c",
   "metadata": {
    "id": "73798a4c",
    "outputId": "14927fcf-5972-46ac-8642-f000a5a75eaa"
   },
   "outputs": [
    {
     "name": "stdout",
     "output_type": "stream",
     "text": [
      "Epoch 1/30\n",
      "600/600 [==============================] - 128s 213ms/step - loss: 0.1442 - accuracy: 0.9467 - val_loss: 0.2413 - val_accuracy: 0.9144\n",
      "Epoch 2/30\n",
      "600/600 [==============================] - 130s 217ms/step - loss: 0.1164 - accuracy: 0.9567 - val_loss: 0.2649 - val_accuracy: 0.9085\n",
      "Epoch 3/30\n",
      "600/600 [==============================] - 135s 225ms/step - loss: 0.0957 - accuracy: 0.9640 - val_loss: 0.2416 - val_accuracy: 0.9207\n",
      "Epoch 4/30\n",
      "600/600 [==============================] - 104s 173ms/step - loss: 0.0787 - accuracy: 0.9703 - val_loss: 0.2362 - val_accuracy: 0.9291\n",
      "Epoch 5/30\n",
      "600/600 [==============================] - 125s 209ms/step - loss: 0.0648 - accuracy: 0.9762 - val_loss: 0.2653 - val_accuracy: 0.9231\n",
      "Epoch 6/30\n",
      "600/600 [==============================] - 131s 219ms/step - loss: 0.0526 - accuracy: 0.9812 - val_loss: 0.3004 - val_accuracy: 0.9203\n",
      "Epoch 7/30\n",
      "600/600 [==============================] - 136s 227ms/step - loss: 0.0459 - accuracy: 0.9834 - val_loss: 0.3171 - val_accuracy: 0.9159\n",
      "Epoch 8/30\n",
      "600/600 [==============================] - 128s 213ms/step - loss: 0.0362 - accuracy: 0.9869 - val_loss: 0.3099 - val_accuracy: 0.9235\n",
      "Epoch 9/30\n",
      "600/600 [==============================] - 128s 213ms/step - loss: 0.0336 - accuracy: 0.9880 - val_loss: 0.3000 - val_accuracy: 0.9254\n",
      "Epoch 10/30\n",
      "600/600 [==============================] - 116s 193ms/step - loss: 0.0293 - accuracy: 0.9889 - val_loss: 0.3334 - val_accuracy: 0.9255\n",
      "Epoch 11/30\n",
      "600/600 [==============================] - 126s 210ms/step - loss: 0.0271 - accuracy: 0.9903 - val_loss: 0.3253 - val_accuracy: 0.9276\n",
      "Epoch 12/30\n",
      "600/600 [==============================] - 121s 202ms/step - loss: 0.0233 - accuracy: 0.9918 - val_loss: 0.3195 - val_accuracy: 0.9258\n",
      "Epoch 13/30\n",
      "600/600 [==============================] - 117s 194ms/step - loss: 0.0225 - accuracy: 0.9921 - val_loss: 0.3655 - val_accuracy: 0.9222\n",
      "Epoch 14/30\n",
      "600/600 [==============================] - 125s 209ms/step - loss: 0.0208 - accuracy: 0.9927 - val_loss: 0.3870 - val_accuracy: 0.9202\n",
      "Epoch 15/30\n",
      "600/600 [==============================] - 127s 211ms/step - loss: 0.0190 - accuracy: 0.9933 - val_loss: 0.3734 - val_accuracy: 0.9256\n",
      "Epoch 16/30\n",
      "600/600 [==============================] - 144s 239ms/step - loss: 0.0168 - accuracy: 0.9942 - val_loss: 0.4026 - val_accuracy: 0.9217\n",
      "Epoch 17/30\n",
      "600/600 [==============================] - 139s 232ms/step - loss: 0.0180 - accuracy: 0.9934 - val_loss: 0.4259 - val_accuracy: 0.9193\n",
      "Epoch 18/30\n",
      "600/600 [==============================] - 139s 232ms/step - loss: 0.0152 - accuracy: 0.9947 - val_loss: 0.3454 - val_accuracy: 0.9273\n",
      "Epoch 19/30\n",
      "600/600 [==============================] - 127s 212ms/step - loss: 0.0142 - accuracy: 0.9951 - val_loss: 0.3843 - val_accuracy: 0.9261\n",
      "Epoch 20/30\n",
      "600/600 [==============================] - 134s 223ms/step - loss: 0.0158 - accuracy: 0.9944 - val_loss: 0.3866 - val_accuracy: 0.9258\n",
      "Epoch 21/30\n",
      "600/600 [==============================] - 144s 240ms/step - loss: 0.0143 - accuracy: 0.9950 - val_loss: 0.3763 - val_accuracy: 0.9255\n",
      "Epoch 22/30\n",
      "600/600 [==============================] - 133s 222ms/step - loss: 0.0137 - accuracy: 0.9953 - val_loss: 0.4161 - val_accuracy: 0.9279\n",
      "Epoch 23/30\n",
      "600/600 [==============================] - 141s 235ms/step - loss: 0.0124 - accuracy: 0.9957 - val_loss: 0.4194 - val_accuracy: 0.9247\n",
      "Epoch 24/30\n",
      "600/600 [==============================] - 140s 233ms/step - loss: 0.0112 - accuracy: 0.9960 - val_loss: 0.4357 - val_accuracy: 0.9224\n",
      "Epoch 25/30\n",
      "600/600 [==============================] - 132s 220ms/step - loss: 0.0107 - accuracy: 0.9963 - val_loss: 0.4148 - val_accuracy: 0.9283\n",
      "Epoch 26/30\n",
      "600/600 [==============================] - 134s 223ms/step - loss: 0.0115 - accuracy: 0.9962 - val_loss: 0.4183 - val_accuracy: 0.9272\n",
      "Epoch 27/30\n",
      "600/600 [==============================] - 137s 228ms/step - loss: 0.0104 - accuracy: 0.9963 - val_loss: 0.4008 - val_accuracy: 0.9306\n",
      "Epoch 28/30\n",
      "600/600 [==============================] - 141s 236ms/step - loss: 0.0106 - accuracy: 0.9964 - val_loss: 0.3804 - val_accuracy: 0.9303\n",
      "Epoch 29/30\n",
      "600/600 [==============================] - 137s 228ms/step - loss: 0.0119 - accuracy: 0.9958 - val_loss: 0.4131 - val_accuracy: 0.9289\n",
      "Epoch 30/30\n",
      "600/600 [==============================] - 134s 224ms/step - loss: 0.0075 - accuracy: 0.9975 - val_loss: 0.4319 - val_accuracy: 0.9303\n",
      "fit_time :3932.1353812217712\n"
     ]
    }
   ],
   "source": [
    "import time\n",
    "start_time  = time.time()\n",
    "hist = model.fit(x_train, y_train, \n",
    "                    epochs = 30, \n",
    "                    batch_size = 100, \n",
    "                    validation_data = (x_test, y_test), verbose=1)\n",
    "print(f'fit_time :{time.time() - start_time}')"
   ]
  },
  {
   "cell_type": "code",
   "execution_count": 14,
   "id": "b927123b",
   "metadata": {
    "id": "b927123b",
    "outputId": "900ac406-5c2f-4a12-cff9-3b2eb7dc754d"
   },
   "outputs": [
    {
     "data": {
      "image/png": "[encoded data removed]",
      "text/plain": [
       "<Figure size 864x576 with 1 Axes>"
      ]
     },
     "metadata": {
      "needs_background": "light"
     },
     "output_type": "display_data"
    }
   ],
   "source": [
    "###6. ACC와 Loss그리기  -> loss 확인, 과적합 확인 \n",
    "import matplotlib.pyplot as plt\n",
    "\n",
    "plot_target = ['loss', 'accuracy','val_loss', 'val_accuracy']\n",
    "plt.figure(figsize=(12, 8))\n",
    "\n",
    "for each in plot_target:\n",
    "    plt.plot(hist.history[each], label = each)\n",
    "plt.legend()\n",
    "plt.grid()\n",
    "plt.show()"
   ]
  },
  {
   "cell_type": "markdown",
   "id": "5dc7b266",
   "metadata": {
    "id": "5dc7b266"
   },
   "source": [
    "### 6.score 확인하기 \n",
    " "
   ]
  },
  {
   "cell_type": "code",
   "execution_count": 15,
   "id": "23fdc1c4",
   "metadata": {
    "id": "23fdc1c4",
    "outputId": "08b3b5ff-172a-4c70-b82f-c6a02fe85c85"
   },
   "outputs": [
    {
     "name": "stdout",
     "output_type": "stream",
     "text": [
      "313/313 [==============================] - 4s 13ms/step - loss: 0.4319 - accuracy: 0.9303\n"
     ]
    }
   ],
   "source": [
    "score  = model.evaluate(x_test, y_test)"
   ]
  },
  {
   "cell_type": "markdown",
   "id": "d6c3b1d9",
   "metadata": {
    "id": "d6c3b1d9"
   },
   "source": [
    "7. 예측 \n"
   ]
  },
  {
   "cell_type": "code",
   "execution_count": 23,
   "id": "91047dda",
   "metadata": {
    "id": "91047dda",
    "outputId": "b2656dfb-dd9e-41cf-8645-0c90b6ddd7d0"
   },
   "outputs": [
    {
     "name": "stdout",
     "output_type": "stream",
     "text": [
      "313/313 [==============================] - 1s 3ms/step\n"
     ]
    },
    {
     "data": {
      "text/plain": [
       "array([7, 2, 1, 0, 4, 1, 4, 9, 5, 9], dtype=uint8)"
      ]
     },
     "execution_count": 23,
     "metadata": {},
     "output_type": "execute_result"
    }
   ],
   "source": [
    "import numpy as np\n",
    "predicted_res  = model.predict(x_test)\n",
    "predicted_labels = np.argmax ( predicted_res,  axis =1)  \n",
    "predicted_labels[:10] # 예측한 데이터 \n",
    "y_test[:10]   # y_test -> 실제 데이터  "
   ]
  },
  {
   "cell_type": "markdown",
   "id": "6a596bfb",
   "metadata": {
    "id": "6a596bfb"
   },
   "source": [
    "### 8. 잘못된 데이터를 찾아보자. \n"
   ]
  },
  {
   "cell_type": "code",
   "execution_count": 24,
   "id": "d847637e",
   "metadata": {
    "id": "d847637e",
    "outputId": "e58668c0-4f32-4558-b4d5-fb73a132674d"
   },
   "outputs": [
    {
     "data": {
      "text/plain": [
       "85"
      ]
     },
     "execution_count": 24,
     "metadata": {},
     "output_type": "execute_result"
    }
   ],
   "source": [
    "# 개수로 확인\n",
    "wrong_result = []\n",
    "\n",
    "for n in range(0, len(y_test)):\n",
    "    if predicted_labels[n] != y_test[n]:\n",
    "        wrong_result.append(n)\n",
    "len(wrong_result)"
   ]
  },
  {
   "cell_type": "code",
   "execution_count": 25,
   "id": "bfe56dda",
   "metadata": {
    "id": "bfe56dda",
    "outputId": "54289305-eb14-4d96-ecee-f6acf1b98ce5"
   },
   "outputs": [
    {
     "data": {
      "image/png": "[encoded data removed]",
      "text/plain": [
       "<Figure size 1008x864 with 16 Axes>"
      ]
     },
     "metadata": {
      "needs_background": "light"
     },
     "output_type": "display_data"
    }
   ],
   "source": [
    "#그래프로 확인  \n",
    "import random\n",
    "\n",
    "samples = random.choices(population= wrong_result, k = 16)\n",
    "samples\n",
    "\n",
    "plt.figure(figsize=(14, 12))\n",
    "\n",
    "for idx, n in enumerate(samples):\n",
    "    plt.subplot(4, 4, idx + 1)\n",
    "    plt.imshow(x_test[n].reshape(28, 28), cmap = 'Greys', interpolation='nearest')\n",
    "    plt.title('Label : ' + str(y_test[n]) + ' Predict : ' + str(predicted_labels[n]))\n",
    "    plt.axis('off')\n",
    "    \n",
    "plt.show()"
   ]
  },
  {
   "cell_type": "code",
   "execution_count": null,
   "id": "f11ab66b",
   "metadata": {
    "id": "f11ab66b"
   },
   "outputs": [],
   "source": []
  }
 ],
 "metadata": {
  "colab": {
   "provenance": []
  },
  "kernelspec": {
   "display_name": "Python 3.9.13 ('mycrawling2')",
   "language": "python",
   "name": "python3"
  },
  "language_info": {
   "codemirror_mode": {
    "name": "ipython",
    "version": 3
   },
   "file_extension": ".py",
   "mimetype": "text/x-python",
   "name": "python",
   "nbconvert_exporter": "python",
   "pygments_lexer": "ipython3",
   "version": "3.9.13"
  },
  "vscode": {
   "interpreter": {
    "hash": "07d9f462dc5dfb5e833a3abb60736596f37995f5d4a492aa44dd781821a37513"
   }
  }
 },
 "nbformat": 4,
 "nbformat_minor": 5
}
